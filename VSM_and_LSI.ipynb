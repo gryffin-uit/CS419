{
 "cells": [
  {
   "cell_type": "markdown",
   "id": "8166915c",
   "metadata": {},
   "source": [
    "## I. Import Lib dependences\n"
   ]
  },
  {
   "cell_type": "code",
   "execution_count": null,
   "id": "eac58d15",
   "metadata": {
    "execution": {
     "iopub.execute_input": "2025-06-22T12:20:33.916416Z",
     "iopub.status.busy": "2025-06-22T12:20:33.916416Z",
     "iopub.status.idle": "2025-06-22T12:20:33.928185Z",
     "shell.execute_reply": "2025-06-22T12:20:33.928185Z"
    }
   },
   "outputs": [],
   "source": [
    "from IPython.core.interactiveshell import InteractiveShell\n",
    "InteractiveShell.ast_node_interactivity = \"last_expr\"\n",
    "InteractiveShell.display_truncate_limit = 20  #"
   ]
  },
  {
   "cell_type": "code",
   "execution_count": null,
   "id": "83cdfc8b",
   "metadata": {
    "execution": {
     "iopub.execute_input": "2025-06-22T12:20:33.930377Z",
     "iopub.status.busy": "2025-06-22T12:20:33.930377Z",
     "iopub.status.idle": "2025-06-22T12:20:35.851048Z",
     "shell.execute_reply": "2025-06-22T12:20:35.850046Z"
    }
   },
   "outputs": [],
   "source": [
    "from config import *\n",
    "from data.reader import read_documents, read_queries, read_relevance\n",
    "from data.preprocessor import preprocess_documents,create_inverted_index,compute_idf_vector,preprocess_text\n",
    "from models.boolean import boolean_retrieval\n",
    "from evaluation.plot import plot_precision_recall,compute_interpolated_precisions,plot_interpolated_map,evaluate_precision_recall\n",
    "import matplotlib.pyplot as plt\n",
    "import os\n",
    "import numpy as np\n",
    "from collections import Counter,OrderedDict\n",
    "import re\n",
    "from wordcloud import WordCloud\n",
    "import pandas as pd\n",
    "from numpy import dot\n",
    "from numpy.linalg import norm\n",
    "import math\n",
    "from sklearn.preprocessing import normalize\n"
   ]
  },
  {
   "cell_type": "code",
   "execution_count": null,
   "id": "69c670c7",
   "metadata": {
    "execution": {
     "iopub.execute_input": "2025-06-22T12:20:35.854084Z",
     "iopub.status.busy": "2025-06-22T12:20:35.853281Z",
     "iopub.status.idle": "2025-06-22T12:20:41.168402Z",
     "shell.execute_reply": "2025-06-22T12:20:41.167401Z"
    }
   },
   "outputs": [],
   "source": [
    "## Read data\n",
    "\n",
    "documents = read_documents(DOCUMENTS_PATH)\n",
    "queries = read_queries(QUERIES_PATH)\n",
    "relevance = read_relevance(RELEVANCE_PATH)"
   ]
  },
  {
   "cell_type": "markdown",
   "id": "ea62cf8f",
   "metadata": {},
   "source": [
    "## II. Data Overview\n"
   ]
  },
  {
   "cell_type": "markdown",
   "id": "4fd42c38",
   "metadata": {},
   "source": [
    "### Data Overview"
   ]
  },
  {
   "cell_type": "code",
   "execution_count": null,
   "id": "745855d7",
   "metadata": {
    "execution": {
     "iopub.execute_input": "2025-06-22T12:20:41.171289Z",
     "iopub.status.busy": "2025-06-22T12:20:41.171289Z",
     "iopub.status.idle": "2025-06-22T12:20:41.276116Z",
     "shell.execute_reply": "2025-06-22T12:20:41.276116Z"
    }
   },
   "outputs": [],
   "source": [
    "def print_documents_overview(documents, top_k=10,name=\"Documents\"):\n",
    "    num_docs = len(documents)\n",
    "    lengths = [len(re.findall(r\"\\w+\", doc)) for doc in documents]\n",
    "    all_words = []\n",
    "\n",
    "    for doc in documents:\n",
    "        words = re.findall(r\"\\w+\", doc.lower())\n",
    "        all_words.extend(words)\n",
    "\n",
    "    word_counts = Counter(all_words)\n",
    "    top_words = word_counts.most_common(top_k)\n",
    "\n",
    "    print(f\"📄{name} Overview:\")\n",
    "    print(f\"- Number of {name}: {num_docs}\")\n",
    "    print(f\"- Sum of word: {sum(lengths)}\")\n",
    "    print(f\"- Average word for each {name}: {np.mean(lengths):.2f}\")\n",
    "    print(f\"- Shortest {name}: {min(lengths)} word\")\n",
    "    print(f\"- Longest {name}: {max(lengths)} word\")\n",
    "    print(f\"- Top {top_k} popular word:\")\n",
    "    for word, count in top_words:\n",
    "        print(f\"    {word}: {count} times\")\n",
    "\n",
    "print_documents_overview(documents)"
   ]
  },
  {
   "cell_type": "code",
   "execution_count": null,
   "id": "d8431e85",
   "metadata": {
    "execution": {
     "iopub.execute_input": "2025-06-22T12:20:41.278405Z",
     "iopub.status.busy": "2025-06-22T12:20:41.278405Z",
     "iopub.status.idle": "2025-06-22T12:20:41.293402Z",
     "shell.execute_reply": "2025-06-22T12:20:41.292241Z"
    }
   },
   "outputs": [],
   "source": [
    "print_documents_overview(queries,name=\"Queries\")"
   ]
  },
  {
   "cell_type": "code",
   "execution_count": null,
   "id": "a2998de6",
   "metadata": {
    "execution": {
     "iopub.execute_input": "2025-06-22T12:20:41.296408Z",
     "iopub.status.busy": "2025-06-22T12:20:41.295407Z",
     "iopub.status.idle": "2025-06-22T12:20:41.308694Z",
     "shell.execute_reply": "2025-06-22T12:20:41.307694Z"
    }
   },
   "outputs": [],
   "source": [
    "for i in range(len(relevance)):\n",
    "    print(f\"Query {i+1} relevance: {relevance[i+1]}\")"
   ]
  },
  {
   "cell_type": "markdown",
   "id": "6f0568b8",
   "metadata": {},
   "source": [
    "## III. Document Preprocessing  "
   ]
  },
  {
   "cell_type": "markdown",
   "id": "39c3dffd",
   "metadata": {},
   "source": [
    "#### Create Vocabulary and Process Documents"
   ]
  },
  {
   "cell_type": "code",
   "execution_count": null,
   "id": "58da116c",
   "metadata": {
    "execution": {
     "iopub.execute_input": "2025-06-22T12:20:41.311731Z",
     "iopub.status.busy": "2025-06-22T12:20:41.311731Z",
     "iopub.status.idle": "2025-06-22T12:20:42.409773Z",
     "shell.execute_reply": "2025-06-22T12:20:42.409773Z"
    }
   },
   "outputs": [],
   "source": [
    "processed_docs,vocab_lst = preprocess_documents(documents)"
   ]
  },
  {
   "cell_type": "code",
   "execution_count": null,
   "id": "1d161eb0",
   "metadata": {
    "execution": {
     "iopub.execute_input": "2025-06-22T12:20:42.412796Z",
     "iopub.status.busy": "2025-06-22T12:20:42.412796Z",
     "iopub.status.idle": "2025-06-22T12:20:42.425768Z",
     "shell.execute_reply": "2025-06-22T12:20:42.425768Z"
    }
   },
   "outputs": [],
   "source": [
    "for i, doc in enumerate(processed_docs):\n",
    "    if len(doc) == 0:\n",
    "        print(f\"Document {i} is empty after preprocessing.\")\n",
    "        processed_docs[i] = []"
   ]
  },
  {
   "cell_type": "markdown",
   "id": "709d13a7",
   "metadata": {},
   "source": [
    "##### Vocabulary"
   ]
  },
  {
   "cell_type": "code",
   "execution_count": null,
   "id": "396f4b92",
   "metadata": {
    "execution": {
     "iopub.execute_input": "2025-06-22T12:20:42.429468Z",
     "iopub.status.busy": "2025-06-22T12:20:42.427964Z",
     "iopub.status.idle": "2025-06-22T12:20:42.441656Z",
     "shell.execute_reply": "2025-06-22T12:20:42.440656Z"
    }
   },
   "outputs": [],
   "source": [
    "print(vocab_lst)\n",
    "print(len(vocab_lst))"
   ]
  },
  {
   "cell_type": "markdown",
   "id": "ff95cd12",
   "metadata": {},
   "source": [
    "### Wordcloud visualize"
   ]
  },
  {
   "cell_type": "code",
   "execution_count": null,
   "id": "4a625ee4",
   "metadata": {
    "execution": {
     "iopub.execute_input": "2025-06-22T12:20:42.444147Z",
     "iopub.status.busy": "2025-06-22T12:20:42.444147Z",
     "iopub.status.idle": "2025-06-22T12:20:43.826529Z",
     "shell.execute_reply": "2025-06-22T12:20:43.825529Z"
    }
   },
   "outputs": [],
   "source": [
    "all_words = ' '.join([' '.join(doc) for doc in processed_docs])\n",
    "\n",
    "wordcloud = WordCloud(width=800, height=400, background_color='white',stopwords=None).generate(all_words)\n",
    "\n",
    "plt.figure(figsize=(15, 7))\n",
    "plt.imshow(wordcloud, interpolation='bilinear')\n",
    "plt.axis('off')\n",
    "plt.title('Word Cloud for Documents')\n",
    "plt.show()"
   ]
  },
  {
   "cell_type": "markdown",
   "id": "7884afb4",
   "metadata": {},
   "source": [
    "## IV. Vector Space Model (VSM) Implement"
   ]
  },
  {
   "cell_type": "markdown",
   "id": "c719da0f",
   "metadata": {},
   "source": [
    "### Documents indexing"
   ]
  },
  {
   "cell_type": "markdown",
   "id": "3c17a6fd",
   "metadata": {},
   "source": [
    "#### Create Inverted Index\n",
    "    Term frequency (TF_t) is defined by: the number of time term t appear in doc_id\n",
    "    Inverted index\n",
    "        Term -> {doc_id : TF_t}\n",
    "    "
   ]
  },
  {
   "cell_type": "code",
   "execution_count": null,
   "id": "5151d45d",
   "metadata": {
    "execution": {
     "iopub.execute_input": "2025-06-22T12:20:43.828811Z",
     "iopub.status.busy": "2025-06-22T12:20:43.828811Z",
     "iopub.status.idle": "2025-06-22T12:20:43.902887Z",
     "shell.execute_reply": "2025-06-22T12:20:43.902887Z"
    }
   },
   "outputs": [],
   "source": [
    "inverted_index = create_inverted_index(processed_docs)\n",
    "\n",
    "print(\"\\n📇 Inverted Index:\")\n",
    "\n",
    "for term, posting in inverted_index.items():\n",
    "    print(f\"{term}: {dict(posting)}\")"
   ]
  },
  {
   "cell_type": "markdown",
   "id": "ad11e4c2",
   "metadata": {},
   "source": [
    "#### Calculate idf score\n",
    "\n",
    "    Define IDF Score: Log_10(N/n_t)\n",
    "    Where N is total number of document\n",
    "    n_t is total number of document that containing term \"t\""
   ]
  },
  {
   "cell_type": "code",
   "execution_count": null,
   "id": "3c2b1759",
   "metadata": {
    "execution": {
     "iopub.execute_input": "2025-06-22T12:20:43.906000Z",
     "iopub.status.busy": "2025-06-22T12:20:43.906000Z",
     "iopub.status.idle": "2025-06-22T12:20:43.950518Z",
     "shell.execute_reply": "2025-06-22T12:20:43.949454Z"
    }
   },
   "outputs": [],
   "source": [
    "def print_idf_vector_pandas(idf_vector):\n",
    "    df = pd.DataFrame(list(idf_vector.items()), columns=[\"Term\", \"IDF\"])\n",
    "    df.index.name = \"Index\"\n",
    "    print(\"📐 IDF Vector Score:\")\n",
    "    print(df.to_string(index=True, justify='center', col_space=12, float_format=\"%.4f\"))\n",
    "\n",
    "idf_vector = compute_idf_vector(vocab_lst, inverted_index, len(processed_docs))\n",
    "print_idf_vector_pandas(idf_vector)"
   ]
  },
  {
   "cell_type": "markdown",
   "id": "af7767cf",
   "metadata": {},
   "source": [
    "#### Index Archiving with Weights\n",
    "    Since the weights is defined by: TF*IDF\n",
    "    Our Index become: Term -> {doc_id: weight}\n",
    "\n",
    "    We need to sort the index hence we could search for term easier"
   ]
  },
  {
   "cell_type": "code",
   "execution_count": null,
   "id": "90eecc9e",
   "metadata": {
    "execution": {
     "iopub.execute_input": "2025-06-22T12:20:43.951517Z",
     "iopub.status.busy": "2025-06-22T12:20:43.951517Z",
     "iopub.status.idle": "2025-06-22T12:20:43.965075Z",
     "shell.execute_reply": "2025-06-22T12:20:43.965075Z"
    }
   },
   "outputs": [],
   "source": [
    "def compute_tfidf_index(index, idf):\n",
    "    for term, postings in index.items():\n",
    "        for doc_id, tf in postings.items():\n",
    "                index[term][doc_id] = tf * idf[term]\n",
    "    return index\n"
   ]
  },
  {
   "cell_type": "code",
   "execution_count": null,
   "id": "3e05767f",
   "metadata": {
    "execution": {
     "iopub.execute_input": "2025-06-22T12:20:43.968547Z",
     "iopub.status.busy": "2025-06-22T12:20:43.968547Z",
     "iopub.status.idle": "2025-06-22T12:20:44.056704Z",
     "shell.execute_reply": "2025-06-22T12:20:44.055705Z"
    }
   },
   "outputs": [],
   "source": [
    "tfidf_index = compute_tfidf_index(inverted_index, idf_vector)\n",
    "tfidf_index = OrderedDict(sorted(tfidf_index.items()))"
   ]
  },
  {
   "cell_type": "code",
   "execution_count": null,
   "id": "acb0f0c9",
   "metadata": {
    "execution": {
     "iopub.execute_input": "2025-06-22T12:20:44.058834Z",
     "iopub.status.busy": "2025-06-22T12:20:44.058834Z",
     "iopub.status.idle": "2025-06-22T12:20:44.133622Z",
     "shell.execute_reply": "2025-06-22T12:20:44.133622Z"
    }
   },
   "outputs": [],
   "source": [
    "for term, posting in tfidf_index.items():\n",
    "    print(f\"{term}: {dict(posting)}\")"
   ]
  },
  {
   "cell_type": "markdown",
   "id": "c43764e6",
   "metadata": {},
   "source": [
    "#### Normalize tfidf_index"
   ]
  },
  {
   "cell_type": "code",
   "execution_count": null,
   "id": "1c912708",
   "metadata": {
    "execution": {
     "iopub.execute_input": "2025-06-22T12:20:44.147557Z",
     "iopub.status.busy": "2025-06-22T12:20:44.147557Z",
     "iopub.status.idle": "2025-06-22T12:20:44.163557Z",
     "shell.execute_reply": "2025-06-22T12:20:44.163557Z"
    }
   },
   "outputs": [],
   "source": [
    "def normalize_tfidf_index(tfidf_index, num_docs):\n",
    "    doc_vectors = [[] for _ in range(num_docs + 1)]  \n",
    "    terms = sorted(tfidf_index.keys())\n",
    "\n",
    "    for term in terms:\n",
    "        for doc_id in range(1, num_docs + 1):\n",
    "            value = tfidf_index[term].get(doc_id, 0)\n",
    "            doc_vectors[doc_id].append(value)\n",
    "\n",
    "    norms = [0] + [math.sqrt(sum(val**2 for val in vec)) for vec in doc_vectors[1:]]\n",
    "\n",
    "    norm_tfidf_index = OrderedDict()\n",
    "    for term in terms:\n",
    "        norm_tfidf_index[term] = {}\n",
    "        for doc_id in range(1, num_docs + 1):\n",
    "            val = tfidf_index[term].get(doc_id, 0)\n",
    "            norm_val = val / norms[doc_id] if norms[doc_id] != 0 else 0\n",
    "            norm_tfidf_index[term][doc_id] = norm_val\n",
    "\n",
    "    return norm_tfidf_index\n"
   ]
  },
  {
   "cell_type": "code",
   "execution_count": null,
   "id": "e81122f2",
   "metadata": {
    "execution": {
     "iopub.execute_input": "2025-06-22T12:20:44.167522Z",
     "iopub.status.busy": "2025-06-22T12:20:44.166467Z",
     "iopub.status.idle": "2025-06-22T12:20:47.564700Z",
     "shell.execute_reply": "2025-06-22T12:20:47.563441Z"
    }
   },
   "outputs": [],
   "source": [
    "norm_tfidf_index = normalize_tfidf_index(tfidf_index, len(processed_docs))"
   ]
  },
  {
   "cell_type": "code",
   "execution_count": null,
   "id": "3809b02e",
   "metadata": {
    "execution": {
     "iopub.execute_input": "2025-06-22T12:20:47.566741Z",
     "iopub.status.busy": "2025-06-22T12:20:47.566741Z",
     "iopub.status.idle": "2025-06-22T12:20:48.791693Z",
     "shell.execute_reply": "2025-06-22T12:20:48.791693Z"
    }
   },
   "outputs": [],
   "source": [
    "from itertools import islice\n",
    "\n",
    "for term, posting in islice(norm_tfidf_index.items(), 50):  # first 200 terms\n",
    "    limited_posting = dict(islice(posting.items(), 50))      # first 50 docs\n",
    "    print(f\"{term}: {limited_posting}\")"
   ]
  },
  {
   "cell_type": "markdown",
   "id": "a9ed2770",
   "metadata": {},
   "source": [
    "### Query Processing\n"
   ]
  },
  {
   "cell_type": "code",
   "execution_count": null,
   "id": "0f1fd31c",
   "metadata": {
    "execution": {
     "iopub.execute_input": "2025-06-22T12:20:48.924244Z",
     "iopub.status.busy": "2025-06-22T12:20:48.924244Z",
     "iopub.status.idle": "2025-06-22T12:20:48.929701Z",
     "shell.execute_reply": "2025-06-22T12:20:48.929701Z"
    }
   },
   "outputs": [],
   "source": [
    "def preprocess_query(query):\n",
    "    return preprocess_text(query)"
   ]
  },
  {
   "cell_type": "code",
   "execution_count": null,
   "id": "77079179",
   "metadata": {
    "execution": {
     "iopub.execute_input": "2025-06-22T12:20:48.932720Z",
     "iopub.status.busy": "2025-06-22T12:20:48.932720Z",
     "iopub.status.idle": "2025-06-22T12:20:48.946704Z",
     "shell.execute_reply": "2025-06-22T12:20:48.945702Z"
    }
   },
   "outputs": [],
   "source": [
    "def query_tfidf_dict(query_terms, idf_dict):\n",
    "    tf_counter = Counter(query_terms)\n",
    "    \n",
    "    tfidf = {\n",
    "        term: tf_counter[term] * idf_dict.get(term, 0)\n",
    "        for term in tf_counter\n",
    "    }\n",
    "\n",
    "    vec = np.array(list(tfidf.values()))\n",
    "    vec_norm = norm(vec)\n",
    "\n",
    "    if vec_norm > 0:\n",
    "        tfidf = {term: weight / vec_norm for term, weight in tfidf.items()}\n",
    "\n",
    "    return tfidf"
   ]
  },
  {
   "cell_type": "markdown",
   "id": "1c622653",
   "metadata": {},
   "source": [
    "### Matching Query with Document\n",
    "\n",
    "    Since both query and document are normalized, then our Cosine Similarity Formula turn out without denominator"
   ]
  },
  {
   "cell_type": "code",
   "execution_count": null,
   "id": "69e9fa5b",
   "metadata": {
    "execution": {
     "iopub.execute_input": "2025-06-22T12:20:48.949701Z",
     "iopub.status.busy": "2025-06-22T12:20:48.948701Z",
     "iopub.status.idle": "2025-06-22T12:20:48.961376Z",
     "shell.execute_reply": "2025-06-22T12:20:48.961376Z"
    }
   },
   "outputs": [],
   "source": [
    "def cosine_similarity_score(query, norm_tfidf_index, idf_vector):\n",
    "    query_terms = preprocess_query(query)\n",
    "    query_tfidf = query_tfidf_dict(query_terms, idf_vector)\n",
    "\n",
    "    scores = {}\n",
    "    for term, weight in query_tfidf.items():\n",
    "        if term in norm_tfidf_index:\n",
    "            for doc_id, doc_weight in norm_tfidf_index[term].items():\n",
    "                scores[doc_id] = scores.get(doc_id, 0) + weight * doc_weight\n",
    "\n",
    "\n",
    "    sorted_scores = sorted(scores.items(), key=lambda x: x[1], reverse=True)\n",
    "    return sorted_scores\n"
   ]
  },
  {
   "cell_type": "markdown",
   "id": "ef787e25",
   "metadata": {},
   "source": [
    "###"
   ]
  },
  {
   "cell_type": "code",
   "execution_count": null,
   "id": "488a093d",
   "metadata": {
    "execution": {
     "iopub.execute_input": "2025-06-22T12:20:48.964571Z",
     "iopub.status.busy": "2025-06-22T12:20:48.964571Z",
     "iopub.status.idle": "2025-06-22T12:20:48.977701Z",
     "shell.execute_reply": "2025-06-22T12:20:48.976623Z"
    }
   },
   "outputs": [],
   "source": [
    "def retrieve_all_queries(list_of_queries, norm_tfidf_index, idf_vector):\n",
    "    results = {}\n",
    "\n",
    "    for qid, query in enumerate(list_of_queries, start=1):  \n",
    "        scores = cosine_similarity_score(query, norm_tfidf_index, idf_vector)\n",
    "\n",
    "        ranked_docs = [doc_id for doc_id, score in scores if score > 0]\n",
    "\n",
    "        results[qid] = ranked_docs\n",
    "\n",
    "    return results\n"
   ]
  },
  {
   "cell_type": "code",
   "execution_count": null,
   "id": "6c7f5a31",
   "metadata": {
    "execution": {
     "iopub.execute_input": "2025-06-22T12:20:48.979736Z",
     "iopub.status.busy": "2025-06-22T12:20:48.979736Z",
     "iopub.status.idle": "2025-06-22T12:20:49.649126Z",
     "shell.execute_reply": "2025-06-22T12:20:49.648121Z"
    }
   },
   "outputs": [],
   "source": [
    "retrieval_results = retrieve_all_queries(queries, norm_tfidf_index, idf_vector)"
   ]
  },
  {
   "cell_type": "markdown",
   "id": "0d26581a",
   "metadata": {},
   "source": [
    "#### Plot Metric Score"
   ]
  },
  {
   "cell_type": "code",
   "execution_count": null,
   "id": "2e089fca",
   "metadata": {
    "execution": {
     "iopub.execute_input": "2025-06-22T12:20:49.652633Z",
     "iopub.status.busy": "2025-06-22T12:20:49.651628Z",
     "iopub.status.idle": "2025-06-22T12:20:49.773378Z",
     "shell.execute_reply": "2025-06-22T12:20:49.772375Z"
    }
   },
   "outputs": [],
   "source": [
    "precision, recall = evaluate_precision_recall(retrieval_results, relevance)\n",
    "\n",
    "plot_precision_recall(precision, recall)"
   ]
  },
  {
   "cell_type": "code",
   "execution_count": null,
   "id": "78f91067",
   "metadata": {
    "execution": {
     "iopub.execute_input": "2025-06-22T12:20:49.776472Z",
     "iopub.status.busy": "2025-06-22T12:20:49.776472Z",
     "iopub.status.idle": "2025-06-22T12:20:49.926397Z",
     "shell.execute_reply": "2025-06-22T12:20:49.926397Z"
    }
   },
   "outputs": [],
   "source": [
    "avg_precisions_vector = compute_interpolated_precisions(retrieval_results, relevance)\n",
    "plot_interpolated_map(avg_precisions_vector)"
   ]
  },
  {
   "cell_type": "markdown",
   "id": "847e9216",
   "metadata": {},
   "source": [
    "## V. LSI with boolean combined"
   ]
  },
  {
   "cell_type": "markdown",
   "id": "3668732c",
   "metadata": {},
   "source": [
    "### Latent Semantic Indexing\n",
    "    Since we have inverted index with tf-idf weighted, created above, then we can create term-document matrix with tf-idf weighted respectively. Hence we will have our Matrix with shape (number of term x number of doc)"
   ]
  },
  {
   "cell_type": "markdown",
   "id": "5cd20023",
   "metadata": {},
   "source": [
    "#### Create Term-document matrix"
   ]
  },
  {
   "cell_type": "code",
   "execution_count": null,
   "id": "af6a6b5e",
   "metadata": {
    "execution": {
     "iopub.execute_input": "2025-06-22T12:20:49.929748Z",
     "iopub.status.busy": "2025-06-22T12:20:49.929748Z",
     "iopub.status.idle": "2025-06-22T12:20:51.410677Z",
     "shell.execute_reply": "2025-06-22T12:20:51.410677Z"
    }
   },
   "outputs": [],
   "source": [
    "terms = list(norm_tfidf_index.keys())\n",
    "num_docs = len(processed_docs)\n",
    "\n",
    "term_doc_matrix = np.zeros((len(terms), num_docs))\n",
    "\n",
    "for i, term in enumerate(terms):\n",
    "    for doc_id in range(1, num_docs + 1):\n",
    "        term_doc_matrix[i, doc_id - 1] = norm_tfidf_index[term].get(doc_id, 0)\n"
   ]
  },
  {
   "cell_type": "code",
   "execution_count": null,
   "id": "03defc65",
   "metadata": {
    "execution": {
     "iopub.execute_input": "2025-06-22T12:20:51.414216Z",
     "iopub.status.busy": "2025-06-22T12:20:51.413186Z",
     "iopub.status.idle": "2025-06-22T12:20:51.426296Z",
     "shell.execute_reply": "2025-06-22T12:20:51.426296Z"
    }
   },
   "outputs": [],
   "source": [
    "print(term_doc_matrix.shape)"
   ]
  },
  {
   "cell_type": "markdown",
   "id": "4211b488",
   "metadata": {},
   "source": [
    "#### Apply Truncated SVD on Term-document matrix"
   ]
  },
  {
   "cell_type": "code",
   "execution_count": null,
   "id": "5909104e",
   "metadata": {
    "execution": {
     "iopub.execute_input": "2025-06-22T12:20:51.429365Z",
     "iopub.status.busy": "2025-06-22T12:20:51.429365Z",
     "iopub.status.idle": "2025-06-22T12:20:51.441437Z",
     "shell.execute_reply": "2025-06-22T12:20:51.441437Z"
    }
   },
   "outputs": [],
   "source": [
    "def find_optimal_k_from_s(singular_values, energy_threshold=0.9):\n",
    "    \"\"\"\n",
    "        Find the optimal number of dimensions (k) based on the cumulative energy of singular values.\n",
    "    \"\"\"\n",
    "    squared_sv = singular_values ** 2\n",
    "    total_energy = np.sum(squared_sv)\n",
    "    cumulative_energy = np.cumsum(squared_sv)\n",
    "\n",
    "    for k, energy in enumerate(cumulative_energy):\n",
    "        if energy / total_energy >= energy_threshold:\n",
    "            return k + 1\n",
    "    return len(singular_values)"
   ]
  },
  {
   "cell_type": "code",
   "execution_count": null,
   "id": "37a5d1c0",
   "metadata": {
    "execution": {
     "iopub.execute_input": "2025-06-22T12:20:51.444889Z",
     "iopub.status.busy": "2025-06-22T12:20:51.444889Z",
     "iopub.status.idle": "2025-06-22T12:20:51.456825Z",
     "shell.execute_reply": "2025-06-22T12:20:51.456825Z"
    }
   },
   "outputs": [],
   "source": [
    "def apply_svd_with_flex_k(term_doc_matrix, user_defined_k=None, energy_threshold=0.9, verbose=True):\n",
    "    \"\"\"\n",
    "    Apply SVD on term-document matrix. \n",
    "    Let:\n",
    "    - User select k (user_defined_k), or\n",
    "    - find k automatically base on thresh hold if user_defined_k=None\n",
    "\n",
    "    Return: U_k, Sigma_k, Vt_k, k_used\n",
    "    \"\"\"\n",
    "    U, s, Vt = np.linalg.svd(term_doc_matrix, full_matrices=False)\n",
    "\n",
    "    if user_defined_k is None:\n",
    "        k = find_optimal_k_from_s(s, energy_threshold)\n",
    "        if verbose:\n",
    "            print(f\"[Auto-K] Keep {energy_threshold*100:.0f}% cumulative energy → k = {k}\")\n",
    "    else:\n",
    "        k = user_defined_k\n",
    "        if verbose:\n",
    "            print(f\"[Manual-K] Use k = {k} defined by user\")\n",
    "\n",
    "    U_k = U[:, :k]\n",
    "    Sigma_k = np.diag(s[:k])\n",
    "    Vt_k = Vt[:k, :]\n",
    "\n",
    "    if verbose:\n",
    "        print(f\"\\n--- SVD Component Shapes (Truncated) ---\")\n",
    "        print(f\"U_k: {U_k.shape}, Sigma_k: {Sigma_k.shape}, Vt_k: {Vt_k.shape}\")\n",
    "        print(\"-\" * 40)\n",
    "\n",
    "    return U_k, Sigma_k, Vt_k, k"
   ]
  },
  {
   "cell_type": "code",
   "execution_count": null,
   "id": "86eccd01",
   "metadata": {
    "execution": {
     "iopub.execute_input": "2025-06-22T12:20:51.459421Z",
     "iopub.status.busy": "2025-06-22T12:20:51.459421Z",
     "iopub.status.idle": "2025-06-22T12:20:53.032737Z",
     "shell.execute_reply": "2025-06-22T12:20:53.031729Z"
    }
   },
   "outputs": [],
   "source": [
    "U_k, Sigma_k, Vt_k, k_used = apply_svd_with_flex_k(term_doc_matrix, user_defined_k=None, energy_threshold=0.9)"
   ]
  },
  {
   "cell_type": "markdown",
   "id": "7e8f650b",
   "metadata": {},
   "source": [
    "#### Create Index"
   ]
  },
  {
   "cell_type": "code",
   "execution_count": null,
   "id": "210e8eec",
   "metadata": {
    "execution": {
     "iopub.execute_input": "2025-06-22T12:20:53.036251Z",
     "iopub.status.busy": "2025-06-22T12:20:53.035242Z",
     "iopub.status.idle": "2025-06-22T12:20:53.046612Z",
     "shell.execute_reply": "2025-06-22T12:20:53.046612Z"
    }
   },
   "outputs": [],
   "source": [
    "doc_ids = [f\"{i+1}\" for i in range(len(documents))]\n",
    "\n",
    "def LatentSemanticIndexing(U_k, Sigma_k, Vt_k, doc_ids):\n",
    "    \"\"\"\n",
    "    Perform Latent Semantic Indexing (LSI) using SVD components.\n",
    "    Returns the L2-normalized LSI representation of documents.\n",
    "    \"\"\"\n",
    "    V_k_dense = Vt_k.T                      # (N_documents x k)\n",
    "    doc_vectors_lsi = V_k_dense @ Sigma_k  # Shape: (N x k)\n",
    "\n",
    "    doc_vectors_lsi_normalized = normalize(doc_vectors_lsi, axis=1) \n",
    "\n",
    "    # Build dict {doc_id: normalized_vector}\n",
    "    document_latent_vectors = {\n",
    "        doc_id: doc_vectors_lsi_normalized[i] for i, doc_id in enumerate(doc_ids)\n",
    "    }\n",
    "\n",
    "    return document_latent_vectors\n"
   ]
  },
  {
   "cell_type": "markdown",
   "id": "c6cdb9d9",
   "metadata": {},
   "source": [
    "### Query processing\n",
    "\n",
    "Since we already had `idf_vector` created above, just process the query like in VSM.  \n",
    "But with the LSI model, we must transform it into lower-dimensional space:  \n",
    "To transform a query vector into the LSI (latent semantic indexing) space, we use the reduced SVD matrices from above.\n",
    "\n",
    "The query vector $\\mathbf{q}$ is first constructed in the original term space, then projected into the lower-dimensional LSI space using:\n",
    "\n",
    "$\\mathbf{q}_{\\text{transformed}} = \\Sigma_k^{-1} \\cdot U_k^T \\cdot \\mathbf{q}$\n",
    "\n",
    "where $U_k$ and $\\Sigma_k$ are from the truncated SVD of the term-document matrix."
   ]
  },
  {
   "cell_type": "code",
   "execution_count": null,
   "id": "07229ee2",
   "metadata": {
    "execution": {
     "iopub.execute_input": "2025-06-22T12:20:53.049613Z",
     "iopub.status.busy": "2025-06-22T12:20:53.049613Z",
     "iopub.status.idle": "2025-06-22T12:20:53.062848Z",
     "shell.execute_reply": "2025-06-22T12:20:53.061841Z"
    }
   },
   "outputs": [],
   "source": [
    "def process_query_lsi(raw_query, idf_vector, U_k, Sigma_k):\n",
    "    processed_query = preprocess_text(raw_query)\n",
    "    query_tfidf = query_tfidf_dict(processed_query, idf_vector)\n",
    "\n",
    "\n",
    "    processed_query = preprocess_text(raw_query)\n",
    "    query_tfidf = query_tfidf_dict(processed_query, idf_vector)\n",
    "\n",
    "    # Convert query_tfidf dict to dense vector in vocab order\n",
    "    vocab = list(idf_vector.keys())\n",
    "    query_tfidf_dense = np.array([query_tfidf.get(term, 0) for term in vocab])\n",
    "\n",
    "    Sigma_k_inv = np.linalg.inv(Sigma_k) \n",
    "    query_latent_vector = query_tfidf_dense @ U_k @ Sigma_k_inv\n",
    "\n",
    "    query_latent_vector = query_latent_vector.reshape(1, -1)  \n",
    "    query_latent_vector = normalize(query_latent_vector, axis=1)  \n",
    "    return query_latent_vector\n",
    "\n"
   ]
  },
  {
   "cell_type": "markdown",
   "id": "d0f1be35",
   "metadata": {},
   "source": [
    "### Matching Query with Document\n",
    "    We would combine a Boolean layer into LSI model"
   ]
  },
  {
   "cell_type": "code",
   "execution_count": null,
   "id": "faf6c0a4",
   "metadata": {
    "execution": {
     "iopub.execute_input": "2025-06-22T12:20:53.065387Z",
     "iopub.status.busy": "2025-06-22T12:20:53.065387Z",
     "iopub.status.idle": "2025-06-22T12:20:53.077073Z",
     "shell.execute_reply": "2025-06-22T12:20:53.077073Z"
    }
   },
   "outputs": [],
   "source": [
    "def LSI_with_boolean(queries, document_latent_vectors, idf_vector, U_k, Sigma_k):\n",
    "    results = {}\n",
    "\n",
    "    for qid, query in enumerate(queries, start=1):\n",
    "        candidate_docs = boolean_retrieval(query, inverted_index)  \n",
    "        query_latent_vector = process_query_lsi(query, idf_vector, U_k, Sigma_k)\n",
    "        \n",
    "        scores = {}\n",
    "        for doc_id in candidate_docs:\n",
    "            doc_id_str = str(doc_id)  # Ensure key is a string\n",
    "            if doc_id_str in document_latent_vectors:\n",
    "                score = query_latent_vector @ document_latent_vectors[doc_id_str].T\n",
    "                if score > 0:\n",
    "                    scores[doc_id] = score\n",
    "\n",
    "        ranked_docs = sorted(scores.items(), key=lambda x: x[1], reverse=True)\n",
    "        results[qid] = [doc_id for doc_id, _ in ranked_docs]\n",
    "\n",
    "    return results"
   ]
  },
  {
   "cell_type": "code",
   "execution_count": null,
   "id": "1c205111",
   "metadata": {
    "execution": {
     "iopub.execute_input": "2025-06-22T12:20:53.080521Z",
     "iopub.status.busy": "2025-06-22T12:20:53.080521Z",
     "iopub.status.idle": "2025-06-22T12:21:03.865718Z",
     "shell.execute_reply": "2025-06-22T12:21:03.865718Z"
    }
   },
   "outputs": [],
   "source": [
    "retrieval_results_lsi = LSI_with_boolean(queries, LatentSemanticIndexing(U_k, Sigma_k, Vt_k, doc_ids), idf_vector, U_k, Sigma_k)"
   ]
  },
  {
   "cell_type": "markdown",
   "id": "d5dd2fc3",
   "metadata": {},
   "source": [
    "#### Plot Metric Score"
   ]
  },
  {
   "cell_type": "code",
   "execution_count": null,
   "id": "481d565c",
   "metadata": {
    "execution": {
     "iopub.execute_input": "2025-06-22T12:21:03.868720Z",
     "iopub.status.busy": "2025-06-22T12:21:03.868720Z",
     "iopub.status.idle": "2025-06-22T12:21:03.991002Z",
     "shell.execute_reply": "2025-06-22T12:21:03.989755Z"
    }
   },
   "outputs": [],
   "source": [
    "precision_1, recall_1 = evaluate_precision_recall(retrieval_results_lsi, relevance)\n",
    "\n",
    "plot_precision_recall(precision_1, recall_1)"
   ]
  },
  {
   "cell_type": "code",
   "execution_count": null,
   "id": "69bef24e",
   "metadata": {
    "execution": {
     "iopub.execute_input": "2025-06-22T12:21:03.993030Z",
     "iopub.status.busy": "2025-06-22T12:21:03.993030Z",
     "iopub.status.idle": "2025-06-22T12:21:04.128820Z",
     "shell.execute_reply": "2025-06-22T12:21:04.128820Z"
    }
   },
   "outputs": [],
   "source": [
    "avg_precisions_LSI = compute_interpolated_precisions(retrieval_results_lsi, relevance)\n",
    "plot_interpolated_map(avg_precisions_LSI)"
   ]
  },
  {
   "cell_type": "markdown",
   "id": "574ff62f",
   "metadata": {},
   "source": [
    "#### Evaluate LSI model with k - demension"
   ]
  },
  {
   "cell_type": "code",
   "execution_count": null,
   "id": "2eec6ddb",
   "metadata": {
    "execution": {
     "iopub.execute_input": "2025-06-22T12:21:04.132044Z",
     "iopub.status.busy": "2025-06-22T12:21:04.132044Z",
     "iopub.status.idle": "2025-06-22T12:21:04.144496Z",
     "shell.execute_reply": "2025-06-22T12:21:04.144496Z"
    }
   },
   "outputs": [],
   "source": [
    "k_values = list(range(10, 201, 10))  \n",
    "map_scores = []\n"
   ]
  },
  {
   "cell_type": "code",
   "execution_count": null,
   "id": "19dcc604",
   "metadata": {
    "execution": {
     "iopub.execute_input": "2025-06-22T12:21:04.147114Z",
     "iopub.status.busy": "2025-06-22T12:21:04.147114Z",
     "iopub.status.idle": "2025-06-22T12:21:04.159545Z",
     "shell.execute_reply": "2025-06-22T12:21:04.159545Z"
    }
   },
   "outputs": [],
   "source": [
    "def analyze_map_vs_k_lsi_boolean(\n",
    "    queries,\n",
    "    term_doc_matrix,\n",
    "    idf_vector,\n",
    "    inverted_index,\n",
    "    relevance_dict,\n",
    "    k_list,\n",
    "    doc_ids\n",
    "):\n",
    "    map_scores = []\n",
    "\n",
    "    for k in k_list:\n",
    "\n",
    "        U_k, Sigma_k, Vt_k, _ = apply_svd_with_flex_k(term_doc_matrix, user_defined_k=k,verbose=False)\n",
    "\n",
    "        document_latent_vectors = LatentSemanticIndexing(U_k, Sigma_k, Vt_k, doc_ids)\n",
    "\n",
    "        retrieved_docs_dict = LSI_with_boolean(\n",
    "            queries, document_latent_vectors, idf_vector, U_k, Sigma_k\n",
    "        )\n",
    "\n",
    "        map_11pt = compute_interpolated_precisions(retrieved_docs_dict, relevance_dict)\n",
    "        # FIX: Take mean if dict\n",
    "        if isinstance(map_11pt, dict):\n",
    "            mean_map = np.mean(list(map_11pt.values()))\n",
    "        else:\n",
    "            mean_map = map_11pt\n",
    "        map_scores.append(mean_map)\n",
    "\n",
    "    plt.figure(figsize=(8, 5))\n",
    "    plt.plot(k_list, map_scores, marker='o', color='blue')\n",
    "    plt.title(\"MAP (11-point interpolated) vs.  k - dimension in LSI\")\n",
    "    plt.xlabel(\"k - dimension\")\n",
    "    plt.ylabel(\"MAP interpolated\")\n",
    "    plt.grid(True)\n",
    "    plt.xticks(k_list)\n",
    "    plt.show()\n",
    "\n",
    "    return None"
   ]
  },
  {
   "cell_type": "code",
   "execution_count": null,
   "id": "c239cf47",
   "metadata": {
    "execution": {
     "iopub.execute_input": "2025-06-22T12:21:04.162011Z",
     "iopub.status.busy": "2025-06-22T12:21:04.162011Z",
     "iopub.status.idle": "2025-06-22T12:22:25.132590Z",
     "shell.execute_reply": "2025-06-22T12:22:25.132590Z"
    }
   },
   "outputs": [],
   "source": [
    "# analyze_map_vs_k_lsi_boolean( queries,\n",
    "#     term_doc_matrix,\n",
    "#     idf_vector,\n",
    "#     inverted_index,\n",
    "#     relevance,\n",
    "#     k_list=k_values\n",
    "#     , doc_ids=doc_ids)\n",
    "   "
   ]
  }
 ],
 "metadata": {
  "kernelspec": {
   "display_name": "IR",
   "language": "python",
   "name": "python3"
  },
  "language_info": {
   "codemirror_mode": {
    "name": "ipython",
    "version": 3
   },
   "file_extension": ".py",
   "mimetype": "text/x-python",
   "name": "python",
   "nbconvert_exporter": "python",
   "pygments_lexer": "ipython3",
   "version": "3.9.23"
  }
 },
 "nbformat": 4,
 "nbformat_minor": 5
}
