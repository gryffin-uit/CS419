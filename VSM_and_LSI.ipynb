{
 "cells": [
  {
   "cell_type": "markdown",
   "id": "8166915c",
   "metadata": {},
   "source": [
    "## I. Import Lib dependences\n"
   ]
  },
  {
   "cell_type": "code",
   "execution_count": null,
   "id": "eac58d15",
   "metadata": {
    "execution": {
     "iopub.execute_input": "2025-06-22T11:22:56.163588Z",
     "iopub.status.busy": "2025-06-22T11:22:56.163588Z",
     "iopub.status.idle": "2025-06-22T11:22:56.175242Z",
     "shell.execute_reply": "2025-06-22T11:22:56.175242Z"
    }
   },
   "outputs": [],
   "source": [
    "from IPython.core.interactiveshell import InteractiveShell\n",
    "InteractiveShell.ast_node_interactivity = \"last_expr\"\n",
    "InteractiveShell.display_truncate_limit = 20  #"
   ]
  },
  {
   "cell_type": "code",
   "execution_count": null,
   "id": "83cdfc8b",
   "metadata": {
    "execution": {
     "iopub.execute_input": "2025-06-22T11:22:56.178927Z",
     "iopub.status.busy": "2025-06-22T11:22:56.178927Z",
     "iopub.status.idle": "2025-06-22T11:22:58.027960Z",
     "shell.execute_reply": "2025-06-22T11:22:58.027960Z"
    }
   },
   "outputs": [],
   "source": [
    "from config import *\n",
    "from data.reader import read_documents, read_queries, read_relevance\n",
    "from data.preprocessor import preprocess_documents,create_inverted_index,compute_idf_vector,preprocess_text\n",
    "from models.boolean import boolean_retrieval\n",
    "from evaluation.plot import plot_precision_recall,compute_interpolated_precisions,plot_interpolated_map,evaluate_precision_recall\n",
    "import matplotlib.pyplot as plt\n",
    "import os\n",
    "import numpy as np\n",
    "from collections import Counter,OrderedDict\n",
    "import re\n",
    "from wordcloud import WordCloud\n",
    "import pandas as pd\n",
    "from numpy import dot\n",
    "from numpy.linalg import norm\n",
    "import math\n",
    "from sklearn.preprocessing import normalize\n"
   ]
  },
  {
   "cell_type": "code",
   "execution_count": null,
   "id": "69c670c7",
   "metadata": {
    "execution": {
     "iopub.execute_input": "2025-06-22T11:22:58.031151Z",
     "iopub.status.busy": "2025-06-22T11:22:58.031151Z",
     "iopub.status.idle": "2025-06-22T11:22:58.573301Z",
     "shell.execute_reply": "2025-06-22T11:22:58.573301Z"
    }
   },
   "outputs": [],
   "source": [
    "## Read data\n",
    "\n",
    "documents = read_documents(DOCUMENTS_PATH)\n",
    "queries = read_queries(QUERIES_PATH)\n",
    "relevance = read_relevance(RELEVANCE_PATH)"
   ]
  },
  {
   "cell_type": "markdown",
   "id": "ea62cf8f",
   "metadata": {},
   "source": [
    "## II. Data Overview\n"
   ]
  },
  {
   "cell_type": "markdown",
   "id": "4fd42c38",
   "metadata": {},
   "source": [
    "### Data Overview"
   ]
  },
  {
   "cell_type": "code",
   "execution_count": null,
   "id": "745855d7",
   "metadata": {
    "execution": {
     "iopub.execute_input": "2025-06-22T11:22:58.575915Z",
     "iopub.status.busy": "2025-06-22T11:22:58.575915Z",
     "iopub.status.idle": "2025-06-22T11:22:58.680284Z",
     "shell.execute_reply": "2025-06-22T11:22:58.680284Z"
    }
   },
   "outputs": [],
   "source": [
    "def print_documents_overview(documents, top_k=10,name=\"Documents\"):\n",
    "    num_docs = len(documents)\n",
    "    lengths = [len(re.findall(r\"\\w+\", doc)) for doc in documents]\n",
    "    all_words = []\n",
    "\n",
    "    for doc in documents:\n",
    "        words = re.findall(r\"\\w+\", doc.lower())\n",
    "        all_words.extend(words)\n",
    "\n",
    "    word_counts = Counter(all_words)\n",
    "    top_words = word_counts.most_common(top_k)\n",
    "\n",
    "    print(f\"📄{name} Overview:\")\n",
    "    print(f\"- Number of {name}: {num_docs}\")\n",
    "    print(f\"- Sum of word: {sum(lengths)}\")\n",
    "    print(f\"- Average word for each {name}: {np.mean(lengths):.2f}\")\n",
    "    print(f\"- Shortest {name}: {min(lengths)} word\")\n",
    "    print(f\"- Longest {name}: {max(lengths)} word\")\n",
    "    print(f\"- Top {top_k} popular word:\")\n",
    "    for word, count in top_words:\n",
    "        print(f\"    {word}: {count} times\")\n",
    "\n",
    "print_documents_overview(documents)"
   ]
  },
  {
   "cell_type": "code",
   "execution_count": null,
   "id": "d8431e85",
   "metadata": {
    "execution": {
     "iopub.execute_input": "2025-06-22T11:22:58.682435Z",
     "iopub.status.busy": "2025-06-22T11:22:58.682435Z",
     "iopub.status.idle": "2025-06-22T11:22:58.695827Z",
     "shell.execute_reply": "2025-06-22T11:22:58.695827Z"
    }
   },
   "outputs": [],
   "source": [
    "print_documents_overview(queries,name=\"Queries\")"
   ]
  },
  {
   "cell_type": "code",
   "execution_count": null,
   "id": "a2998de6",
   "metadata": {
    "execution": {
     "iopub.execute_input": "2025-06-22T11:22:58.698839Z",
     "iopub.status.busy": "2025-06-22T11:22:58.698839Z",
     "iopub.status.idle": "2025-06-22T11:22:58.710721Z",
     "shell.execute_reply": "2025-06-22T11:22:58.710721Z"
    }
   },
   "outputs": [],
   "source": [
    "for i in range(len(relevance)):\n",
    "    print(f\"Query {i+1} relevance: {relevance[i+1]}\")"
   ]
  },
  {
   "cell_type": "markdown",
   "id": "6f0568b8",
   "metadata": {},
   "source": [
    "## III. Document Preprocessing  "
   ]
  },
  {
   "cell_type": "markdown",
   "id": "39c3dffd",
   "metadata": {},
   "source": [
    "#### Create Vocabulary and Process Documents"
   ]
  },
  {
   "cell_type": "code",
   "execution_count": null,
   "id": "58da116c",
   "metadata": {
    "execution": {
     "iopub.execute_input": "2025-06-22T11:22:58.713231Z",
     "iopub.status.busy": "2025-06-22T11:22:58.713231Z",
     "iopub.status.idle": "2025-06-22T11:22:59.772316Z",
     "shell.execute_reply": "2025-06-22T11:22:59.772316Z"
    }
   },
   "outputs": [],
   "source": [
    "processed_docs,vocab_lst = preprocess_documents(documents)"
   ]
  },
  {
   "cell_type": "code",
   "execution_count": null,
   "id": "1d161eb0",
   "metadata": {
    "execution": {
     "iopub.execute_input": "2025-06-22T11:22:59.775434Z",
     "iopub.status.busy": "2025-06-22T11:22:59.774437Z",
     "iopub.status.idle": "2025-06-22T11:22:59.787929Z",
     "shell.execute_reply": "2025-06-22T11:22:59.787929Z"
    }
   },
   "outputs": [],
   "source": [
    "for i, doc in enumerate(processed_docs):\n",
    "    if len(doc) == 0:\n",
    "        print(f\"Document {i} is empty after preprocessing.\")\n",
    "        processed_docs[i] = []"
   ]
  },
  {
   "cell_type": "markdown",
   "id": "709d13a7",
   "metadata": {},
   "source": [
    "##### Vocabulary"
   ]
  },
  {
   "cell_type": "code",
   "execution_count": null,
   "id": "396f4b92",
   "metadata": {
    "execution": {
     "iopub.execute_input": "2025-06-22T11:22:59.790930Z",
     "iopub.status.busy": "2025-06-22T11:22:59.789934Z",
     "iopub.status.idle": "2025-06-22T11:22:59.803092Z",
     "shell.execute_reply": "2025-06-22T11:22:59.803092Z"
    }
   },
   "outputs": [],
   "source": [
    "print(vocab_lst)\n",
    "print(len(vocab_lst))"
   ]
  },
  {
   "cell_type": "markdown",
   "id": "ff95cd12",
   "metadata": {},
   "source": [
    "### Wordcloud visualize"
   ]
  },
  {
   "cell_type": "code",
   "execution_count": null,
   "id": "4a625ee4",
   "metadata": {
    "execution": {
     "iopub.execute_input": "2025-06-22T11:22:59.807112Z",
     "iopub.status.busy": "2025-06-22T11:22:59.806606Z",
     "iopub.status.idle": "2025-06-22T11:23:01.171162Z",
     "shell.execute_reply": "2025-06-22T11:23:01.171162Z"
    }
   },
   "outputs": [],
   "source": [
    "all_words = ' '.join([' '.join(doc) for doc in processed_docs])\n",
    "\n",
    "wordcloud = WordCloud(width=800, height=400, background_color='white',stopwords=None).generate(all_words)\n",
    "\n",
    "plt.figure(figsize=(15, 7))\n",
    "plt.imshow(wordcloud, interpolation='bilinear')\n",
    "plt.axis('off')\n",
    "plt.title('Word Cloud for Documents')\n",
    "plt.show()"
   ]
  },
  {
   "cell_type": "markdown",
   "id": "7884afb4",
   "metadata": {},
   "source": [
    "## IV. Vector Space Model (VSM) Implement"
   ]
  },
  {
   "cell_type": "markdown",
   "id": "c719da0f",
   "metadata": {},
   "source": [
    "### Documents indexing"
   ]
  },
  {
   "cell_type": "markdown",
   "id": "3c17a6fd",
   "metadata": {},
   "source": [
    "#### Create Inverted Index\n",
    "    Term frequency (TF_t) is defined by: the number of time term t appear in doc_id\n",
    "    Inverted index\n",
    "        Term -> {doc_id : TF_t}\n",
    "    "
   ]
  },
  {
   "cell_type": "code",
   "execution_count": null,
   "id": "5151d45d",
   "metadata": {
    "execution": {
     "iopub.execute_input": "2025-06-22T11:23:01.174015Z",
     "iopub.status.busy": "2025-06-22T11:23:01.174015Z",
     "iopub.status.idle": "2025-06-22T11:23:01.248058Z",
     "shell.execute_reply": "2025-06-22T11:23:01.248058Z"
    }
   },
   "outputs": [],
   "source": [
    "inverted_index = create_inverted_index(processed_docs)\n",
    "\n",
    "print(\"\\n📇 Inverted Index:\")\n",
    "\n",
    "for term, posting in inverted_index.items():\n",
    "    print(f\"{term}: {dict(posting)}\")"
   ]
  },
  {
   "cell_type": "markdown",
   "id": "ad11e4c2",
   "metadata": {},
   "source": [
    "#### Calculate idf score\n",
    "\n",
    "    Define IDF Score: Log_10(N/n_t)\n",
    "    Where N is total number of document\n",
    "    n_t is total number of document that containing term \"t\""
   ]
  },
  {
   "cell_type": "code",
   "execution_count": null,
   "id": "3c2b1759",
   "metadata": {
    "execution": {
     "iopub.execute_input": "2025-06-22T11:23:01.251196Z",
     "iopub.status.busy": "2025-06-22T11:23:01.251196Z",
     "iopub.status.idle": "2025-06-22T11:23:01.296046Z",
     "shell.execute_reply": "2025-06-22T11:23:01.294484Z"
    }
   },
   "outputs": [],
   "source": [
    "def print_idf_vector_pandas(idf_vector):\n",
    "    df = pd.DataFrame(list(idf_vector.items()), columns=[\"Term\", \"IDF\"])\n",
    "    df.index.name = \"Index\"\n",
    "    print(\"📐 IDF Vector Score:\")\n",
    "    print(df.to_string(index=True, justify='center', col_space=12, float_format=\"%.4f\"))\n",
    "\n",
    "idf_vector = compute_idf_vector(vocab_lst, inverted_index, len(processed_docs))\n",
    "print_idf_vector_pandas(idf_vector)"
   ]
  },
  {
   "cell_type": "markdown",
   "id": "af7767cf",
   "metadata": {},
   "source": [
    "#### Index Archiving with Weights\n",
    "    Since the weights is defined by: TF*IDF\n",
    "    Our Index become: Term -> {doc_id: weight}\n",
    "\n",
    "    We need to sort the index hence we could search for term easier"
   ]
  },
  {
   "cell_type": "code",
   "execution_count": null,
   "id": "90eecc9e",
   "metadata": {
    "execution": {
     "iopub.execute_input": "2025-06-22T11:23:01.299077Z",
     "iopub.status.busy": "2025-06-22T11:23:01.298076Z",
     "iopub.status.idle": "2025-06-22T11:23:01.310085Z",
     "shell.execute_reply": "2025-06-22T11:23:01.310085Z"
    }
   },
   "outputs": [],
   "source": [
    "def compute_tfidf_index(index, idf):\n",
    "    for term, postings in index.items():\n",
    "        for doc_id, tf in postings.items():\n",
    "                index[term][doc_id] = tf * idf[term]\n",
    "    return index\n"
   ]
  },
  {
   "cell_type": "code",
   "execution_count": null,
   "id": "3e05767f",
   "metadata": {
    "execution": {
     "iopub.execute_input": "2025-06-22T11:23:01.312404Z",
     "iopub.status.busy": "2025-06-22T11:23:01.312404Z",
     "iopub.status.idle": "2025-06-22T11:23:01.418828Z",
     "shell.execute_reply": "2025-06-22T11:23:01.418828Z"
    }
   },
   "outputs": [],
   "source": [
    "tfidf_index = compute_tfidf_index(inverted_index, idf_vector)\n",
    "tfidf_index = OrderedDict(sorted(tfidf_index.items()))"
   ]
  },
  {
   "cell_type": "code",
   "execution_count": null,
   "id": "acb0f0c9",
   "metadata": {
    "execution": {
     "iopub.execute_input": "2025-06-22T11:23:01.421953Z",
     "iopub.status.busy": "2025-06-22T11:23:01.421953Z",
     "iopub.status.idle": "2025-06-22T11:23:01.500209Z",
     "shell.execute_reply": "2025-06-22T11:23:01.499192Z"
    }
   },
   "outputs": [],
   "source": [
    "for term, posting in tfidf_index.items():\n",
    "    print(f\"{term}: {dict(posting)}\")"
   ]
  },
  {
   "cell_type": "markdown",
   "id": "c43764e6",
   "metadata": {},
   "source": [
    "#### Normalize tfidf_index"
   ]
  },
  {
   "cell_type": "code",
   "execution_count": null,
   "id": "1c912708",
   "metadata": {
    "execution": {
     "iopub.execute_input": "2025-06-22T11:23:01.507167Z",
     "iopub.status.busy": "2025-06-22T11:23:01.507167Z",
     "iopub.status.idle": "2025-06-22T11:23:01.514648Z",
     "shell.execute_reply": "2025-06-22T11:23:01.514648Z"
    }
   },
   "outputs": [],
   "source": [
    "def normalize_tfidf_index(tfidf_index, num_docs):\n",
    "    doc_vectors = [[] for _ in range(num_docs + 1)]  \n",
    "    terms = sorted(tfidf_index.keys())\n",
    "\n",
    "    for term in terms:\n",
    "        for doc_id in range(1, num_docs + 1):\n",
    "            value = tfidf_index[term].get(doc_id, 0)\n",
    "            doc_vectors[doc_id].append(value)\n",
    "\n",
    "    norms = [0] + [math.sqrt(sum(val**2 for val in vec)) for vec in doc_vectors[1:]]\n",
    "\n",
    "    norm_tfidf_index = OrderedDict()\n",
    "    for term in terms:\n",
    "        norm_tfidf_index[term] = {}\n",
    "        for doc_id in range(1, num_docs + 1):\n",
    "            val = tfidf_index[term].get(doc_id, 0)\n",
    "            norm_val = val / norms[doc_id] if norms[doc_id] != 0 else 0\n",
    "            norm_tfidf_index[term][doc_id] = norm_val\n",
    "\n",
    "    return norm_tfidf_index\n"
   ]
  },
  {
   "cell_type": "code",
   "execution_count": null,
   "id": "e81122f2",
   "metadata": {
    "execution": {
     "iopub.execute_input": "2025-06-22T11:23:01.516728Z",
     "iopub.status.busy": "2025-06-22T11:23:01.516728Z",
     "iopub.status.idle": "2025-06-22T11:23:04.801021Z",
     "shell.execute_reply": "2025-06-22T11:23:04.801021Z"
    }
   },
   "outputs": [],
   "source": [
    "norm_tfidf_index = normalize_tfidf_index(tfidf_index, len(processed_docs))"
   ]
  },
  {
   "cell_type": "code",
   "execution_count": null,
   "id": "3809b02e",
   "metadata": {
    "execution": {
     "iopub.execute_input": "2025-06-22T11:23:04.804605Z",
     "iopub.status.busy": "2025-06-22T11:23:04.803194Z",
     "iopub.status.idle": "2025-06-22T11:23:05.924350Z",
     "shell.execute_reply": "2025-06-22T11:23:05.923343Z"
    }
   },
   "outputs": [],
   "source": [
    "for term, posting in norm_tfidf_index.items():\n",
    "    print(f\"{term}: {dict(posting)}\")"
   ]
  },
  {
   "cell_type": "markdown",
   "id": "a9ed2770",
   "metadata": {},
   "source": [
    "### Query Processing\n"
   ]
  },
  {
   "cell_type": "code",
   "execution_count": null,
   "id": "0f1fd31c",
   "metadata": {
    "execution": {
     "iopub.execute_input": "2025-06-22T11:23:06.061865Z",
     "iopub.status.busy": "2025-06-22T11:23:06.061865Z",
     "iopub.status.idle": "2025-06-22T11:23:06.065858Z",
     "shell.execute_reply": "2025-06-22T11:23:06.064564Z"
    }
   },
   "outputs": [],
   "source": [
    "def preprocess_query(query):\n",
    "    return preprocess_text(query)"
   ]
  },
  {
   "cell_type": "code",
   "execution_count": null,
   "id": "77079179",
   "metadata": {
    "execution": {
     "iopub.execute_input": "2025-06-22T11:23:06.068263Z",
     "iopub.status.busy": "2025-06-22T11:23:06.068263Z",
     "iopub.status.idle": "2025-06-22T11:23:06.079591Z",
     "shell.execute_reply": "2025-06-22T11:23:06.079591Z"
    }
   },
   "outputs": [],
   "source": [
    "def query_tfidf_dict(query_terms, idf_dict):\n",
    "    tf_counter = Counter(query_terms)\n",
    "    \n",
    "    tfidf = {\n",
    "        term: tf_counter[term] * idf_dict.get(term, 0)\n",
    "        for term in tf_counter\n",
    "    }\n",
    "\n",
    "    vec = np.array(list(tfidf.values()))\n",
    "    vec_norm = norm(vec)\n",
    "\n",
    "    if vec_norm > 0:\n",
    "        tfidf = {term: weight / vec_norm for term, weight in tfidf.items()}\n",
    "\n",
    "    return tfidf"
   ]
  },
  {
   "cell_type": "markdown",
   "id": "1c622653",
   "metadata": {},
   "source": [
    "### Matching Query with Document\n",
    "\n",
    "    Since both query and document are normalized, then our Cosine Similarity Formula turn out without denominator"
   ]
  },
  {
   "cell_type": "code",
   "execution_count": null,
   "id": "69e9fa5b",
   "metadata": {
    "execution": {
     "iopub.execute_input": "2025-06-22T11:23:06.081881Z",
     "iopub.status.busy": "2025-06-22T11:23:06.081881Z",
     "iopub.status.idle": "2025-06-22T11:23:06.095298Z",
     "shell.execute_reply": "2025-06-22T11:23:06.095298Z"
    }
   },
   "outputs": [],
   "source": [
    "def cosine_similarity_score(query, norm_tfidf_index, idf_vector):\n",
    "    query_terms = preprocess_query(query)\n",
    "    query_tfidf = query_tfidf_dict(query_terms, idf_vector)\n",
    "\n",
    "    scores = {}\n",
    "    for term, weight in query_tfidf.items():\n",
    "        if term in norm_tfidf_index:\n",
    "            for doc_id, doc_weight in norm_tfidf_index[term].items():\n",
    "                scores[doc_id] = scores.get(doc_id, 0) + weight * doc_weight\n",
    "\n",
    "\n",
    "    sorted_scores = sorted(scores.items(), key=lambda x: x[1], reverse=True)\n",
    "    return sorted_scores\n"
   ]
  },
  {
   "cell_type": "markdown",
   "id": "ef787e25",
   "metadata": {},
   "source": [
    "###"
   ]
  },
  {
   "cell_type": "code",
   "execution_count": null,
   "id": "488a093d",
   "metadata": {
    "execution": {
     "iopub.execute_input": "2025-06-22T11:23:06.098997Z",
     "iopub.status.busy": "2025-06-22T11:23:06.097969Z",
     "iopub.status.idle": "2025-06-22T11:23:06.111526Z",
     "shell.execute_reply": "2025-06-22T11:23:06.110436Z"
    }
   },
   "outputs": [],
   "source": [
    "def retrieve_all_queries(list_of_queries, norm_tfidf_index, idf_vector):\n",
    "    results = {}\n",
    "\n",
    "    for qid, query in enumerate(list_of_queries, start=1):  \n",
    "        scores = cosine_similarity_score(query, norm_tfidf_index, idf_vector)\n",
    "\n",
    "        ranked_docs = [doc_id for doc_id, score in scores if score > 0]\n",
    "\n",
    "        results[qid] = ranked_docs\n",
    "\n",
    "    return results\n"
   ]
  },
  {
   "cell_type": "code",
   "execution_count": null,
   "id": "6c7f5a31",
   "metadata": {
    "execution": {
     "iopub.execute_input": "2025-06-22T11:23:06.113596Z",
     "iopub.status.busy": "2025-06-22T11:23:06.113596Z",
     "iopub.status.idle": "2025-06-22T11:23:06.845445Z",
     "shell.execute_reply": "2025-06-22T11:23:06.845445Z"
    }
   },
   "outputs": [],
   "source": [
    "retrieval_results = retrieve_all_queries(queries, norm_tfidf_index, idf_vector)"
   ]
  },
  {
   "cell_type": "markdown",
   "id": "0d26581a",
   "metadata": {},
   "source": [
    "#### Plot Metric Score"
   ]
  },
  {
   "cell_type": "code",
   "execution_count": null,
   "id": "2e089fca",
   "metadata": {
    "execution": {
     "iopub.execute_input": "2025-06-22T11:23:06.849572Z",
     "iopub.status.busy": "2025-06-22T11:23:06.849572Z",
     "iopub.status.idle": "2025-06-22T11:23:06.983174Z",
     "shell.execute_reply": "2025-06-22T11:23:06.983174Z"
    }
   },
   "outputs": [],
   "source": [
    "precision, recall = evaluate_precision_recall(retrieval_results, relevance)\n",
    "\n",
    "plot_precision_recall(precision, recall)"
   ]
  },
  {
   "cell_type": "code",
   "execution_count": null,
   "id": "78f91067",
   "metadata": {
    "execution": {
     "iopub.execute_input": "2025-06-22T11:23:06.985404Z",
     "iopub.status.busy": "2025-06-22T11:23:06.985404Z",
     "iopub.status.idle": "2025-06-22T11:23:07.125140Z",
     "shell.execute_reply": "2025-06-22T11:23:07.124092Z"
    }
   },
   "outputs": [],
   "source": [
    "avg_precisions_vector = compute_interpolated_precisions(retrieval_results, relevance)\n",
    "plot_interpolated_map(avg_precisions_vector)"
   ]
  },
  {
   "cell_type": "markdown",
   "id": "847e9216",
   "metadata": {},
   "source": [
    "## V. LSI with boolean combined"
   ]
  },
  {
   "cell_type": "markdown",
   "id": "3668732c",
   "metadata": {},
   "source": [
    "### Latent Semantic Indexing\n",
    "    Since we have inverted index with tf-idf weighted, created above, then we can create term-document matrix with tf-idf weighted respectively. Hence we will have our Matrix with shape (number of term x number of doc)"
   ]
  },
  {
   "cell_type": "markdown",
   "id": "5cd20023",
   "metadata": {},
   "source": [
    "#### Create Term-document matrix"
   ]
  },
  {
   "cell_type": "code",
   "execution_count": null,
   "id": "af6a6b5e",
   "metadata": {
    "execution": {
     "iopub.execute_input": "2025-06-22T11:23:07.126952Z",
     "iopub.status.busy": "2025-06-22T11:23:07.126952Z",
     "iopub.status.idle": "2025-06-22T11:23:08.335649Z",
     "shell.execute_reply": "2025-06-22T11:23:08.335649Z"
    }
   },
   "outputs": [],
   "source": [
    "terms = list(norm_tfidf_index.keys())\n",
    "num_docs = len(processed_docs)\n",
    "\n",
    "term_doc_matrix = np.zeros((len(terms), num_docs))\n",
    "\n",
    "for i, term in enumerate(terms):\n",
    "    for doc_id in range(1, num_docs + 1):\n",
    "        term_doc_matrix[i, doc_id - 1] = norm_tfidf_index[term].get(doc_id, 0)\n"
   ]
  },
  {
   "cell_type": "code",
   "execution_count": null,
   "id": "03defc65",
   "metadata": {
    "execution": {
     "iopub.execute_input": "2025-06-22T11:23:08.339195Z",
     "iopub.status.busy": "2025-06-22T11:23:08.339195Z",
     "iopub.status.idle": "2025-06-22T11:23:08.350701Z",
     "shell.execute_reply": "2025-06-22T11:23:08.350701Z"
    }
   },
   "outputs": [],
   "source": [
    "print(term_doc_matrix.shape)"
   ]
  },
  {
   "cell_type": "markdown",
   "id": "4211b488",
   "metadata": {},
   "source": [
    "#### Apply Truncated SVD on Term-document matrix"
   ]
  },
  {
   "cell_type": "code",
   "execution_count": null,
   "id": "5909104e",
   "metadata": {
    "execution": {
     "iopub.execute_input": "2025-06-22T11:23:08.354686Z",
     "iopub.status.busy": "2025-06-22T11:23:08.353406Z",
     "iopub.status.idle": "2025-06-22T11:23:08.365591Z",
     "shell.execute_reply": "2025-06-22T11:23:08.365591Z"
    }
   },
   "outputs": [],
   "source": [
    "def find_optimal_k_from_s(singular_values, energy_threshold=0.9):\n",
    "    \"\"\"\n",
    "        Find the optimal number of dimensions (k) based on the cumulative energy of singular values.\n",
    "    \"\"\"\n",
    "    squared_sv = singular_values ** 2\n",
    "    total_energy = np.sum(squared_sv)\n",
    "    cumulative_energy = np.cumsum(squared_sv)\n",
    "\n",
    "    for k, energy in enumerate(cumulative_energy):\n",
    "        if energy / total_energy >= energy_threshold:\n",
    "            return k + 1\n",
    "    return len(singular_values)"
   ]
  },
  {
   "cell_type": "code",
   "execution_count": null,
   "id": "37a5d1c0",
   "metadata": {
    "execution": {
     "iopub.execute_input": "2025-06-22T11:23:08.368833Z",
     "iopub.status.busy": "2025-06-22T11:23:08.367757Z",
     "iopub.status.idle": "2025-06-22T11:23:08.382008Z",
     "shell.execute_reply": "2025-06-22T11:23:08.381004Z"
    }
   },
   "outputs": [],
   "source": [
    "def apply_svd_with_flex_k(term_doc_matrix, user_defined_k=None, energy_threshold=0.9, verbose=True):\n",
    "    \"\"\"\n",
    "    Apply SVD on term-document matrix. \n",
    "    Let:\n",
    "    - User select k (user_defined_k), or\n",
    "    - find k automatically base on thresh hold if user_defined_k=None\n",
    "\n",
    "    Return: U_k, Sigma_k, Vt_k, k_used\n",
    "    \"\"\"\n",
    "    U, s, Vt = np.linalg.svd(term_doc_matrix, full_matrices=False)\n",
    "\n",
    "    if user_defined_k is None:\n",
    "        k = find_optimal_k_from_s(s, energy_threshold)\n",
    "        if verbose:\n",
    "            print(f\"[Auto-K] Keep {energy_threshold*100:.0f}% cumulative energy → k = {k}\")\n",
    "    else:\n",
    "        k = user_defined_k\n",
    "        if verbose:\n",
    "            print(f\"[Manual-K] Use k = {k} defined by user\")\n",
    "\n",
    "    U_k = U[:, :k]\n",
    "    Sigma_k = np.diag(s[:k])\n",
    "    Vt_k = Vt[:k, :]\n",
    "\n",
    "    if verbose:\n",
    "        print(f\"\\n--- SVD Component Shapes (Truncated) ---\")\n",
    "        print(f\"U_k: {U_k.shape}, Sigma_k: {Sigma_k.shape}, Vt_k: {Vt_k.shape}\")\n",
    "        print(\"-\" * 40)\n",
    "\n",
    "    return U_k, Sigma_k, Vt_k, k"
   ]
  },
  {
   "cell_type": "code",
   "execution_count": null,
   "id": "86eccd01",
   "metadata": {
    "execution": {
     "iopub.execute_input": "2025-06-22T11:23:08.383514Z",
     "iopub.status.busy": "2025-06-22T11:23:08.383514Z",
     "iopub.status.idle": "2025-06-22T11:23:09.840075Z",
     "shell.execute_reply": "2025-06-22T11:23:09.840075Z"
    }
   },
   "outputs": [],
   "source": [
    "U_k, Sigma_k, Vt_k, k_used = apply_svd_with_flex_k(term_doc_matrix, user_defined_k=None, energy_threshold=0.9)"
   ]
  },
  {
   "cell_type": "markdown",
   "id": "7e8f650b",
   "metadata": {},
   "source": [
    "#### Create Index"
   ]
  },
  {
   "cell_type": "code",
   "execution_count": null,
   "id": "210e8eec",
   "metadata": {
    "execution": {
     "iopub.execute_input": "2025-06-22T11:23:09.843231Z",
     "iopub.status.busy": "2025-06-22T11:23:09.843231Z",
     "iopub.status.idle": "2025-06-22T11:23:09.855896Z",
     "shell.execute_reply": "2025-06-22T11:23:09.855896Z"
    }
   },
   "outputs": [],
   "source": [
    "doc_ids = [f\"{i+1}\" for i in range(len(documents))]\n",
    "\n",
    "def LatentSemanticIndexing(U_k, Sigma_k, Vt_k, doc_ids):\n",
    "    \"\"\"\n",
    "    Perform Latent Semantic Indexing (LSI) using SVD components.\n",
    "    Returns the L2-normalized LSI representation of documents.\n",
    "    \"\"\"\n",
    "    V_k_dense = Vt_k.T                      # (N_documents x k)\n",
    "    doc_vectors_lsi = V_k_dense @ Sigma_k  # Shape: (N x k)\n",
    "\n",
    "    doc_vectors_lsi_normalized = normalize(doc_vectors_lsi, axis=1) \n",
    "\n",
    "    # Build dict {doc_id: normalized_vector}\n",
    "    document_latent_vectors = {\n",
    "        doc_id: doc_vectors_lsi_normalized[i] for i, doc_id in enumerate(doc_ids)\n",
    "    }\n",
    "\n",
    "    return document_latent_vectors\n"
   ]
  },
  {
   "cell_type": "markdown",
   "id": "c6cdb9d9",
   "metadata": {},
   "source": [
    "### Query processing\n",
    "\n",
    "Since we already had `idf_vector` created above, just process the query like in VSM.  \n",
    "But with the LSI model, we must transform it into lower-dimensional space:  \n",
    "To transform a query vector into the LSI (latent semantic indexing) space, we use the reduced SVD matrices from above.\n",
    "\n",
    "The query vector $\\mathbf{q}$ is first constructed in the original term space, then projected into the lower-dimensional LSI space using:\n",
    "\n",
    "$\\mathbf{q}_{\\text{transformed}} = \\Sigma_k^{-1} \\cdot U_k^T \\cdot \\mathbf{q}$\n",
    "\n",
    "where $U_k$ and $\\Sigma_k$ are from the truncated SVD of the term-document matrix."
   ]
  },
  {
   "cell_type": "code",
   "execution_count": null,
   "id": "07229ee2",
   "metadata": {
    "execution": {
     "iopub.execute_input": "2025-06-22T11:23:09.858448Z",
     "iopub.status.busy": "2025-06-22T11:23:09.858448Z",
     "iopub.status.idle": "2025-06-22T11:23:09.871139Z",
     "shell.execute_reply": "2025-06-22T11:23:09.871139Z"
    }
   },
   "outputs": [],
   "source": [
    "def process_query_lsi(raw_query, idf_vector, U_k, Sigma_k):\n",
    "    processed_query = preprocess_text(raw_query)\n",
    "    query_tfidf = query_tfidf_dict(processed_query, idf_vector)\n",
    "\n",
    "\n",
    "    processed_query = preprocess_text(raw_query)\n",
    "    query_tfidf = query_tfidf_dict(processed_query, idf_vector)\n",
    "\n",
    "    # Convert query_tfidf dict to dense vector in vocab order\n",
    "    vocab = list(idf_vector.keys())\n",
    "    query_tfidf_dense = np.array([query_tfidf.get(term, 0) for term in vocab])\n",
    "\n",
    "    Sigma_k_inv = np.linalg.inv(Sigma_k) \n",
    "    query_latent_vector = query_tfidf_dense @ U_k @ Sigma_k_inv\n",
    "\n",
    "    query_latent_vector = query_latent_vector.reshape(1, -1)  \n",
    "    query_latent_vector = normalize(query_latent_vector, axis=1)  \n",
    "    return query_latent_vector\n",
    "\n"
   ]
  },
  {
   "cell_type": "markdown",
   "id": "d0f1be35",
   "metadata": {},
   "source": [
    "### Matching Query with Document\n",
    "    We would combine a Boolean layer into LSI model"
   ]
  },
  {
   "cell_type": "code",
   "execution_count": null,
   "id": "faf6c0a4",
   "metadata": {
    "execution": {
     "iopub.execute_input": "2025-06-22T11:23:09.874165Z",
     "iopub.status.busy": "2025-06-22T11:23:09.874165Z",
     "iopub.status.idle": "2025-06-22T11:23:09.887093Z",
     "shell.execute_reply": "2025-06-22T11:23:09.887093Z"
    }
   },
   "outputs": [],
   "source": [
    "def LSI_with_boolean(queries, document_latent_vectors, idf_vector, U_k, Sigma_k):\n",
    "    results = {}\n",
    "\n",
    "    for qid, query in enumerate(queries, start=1):\n",
    "        candidate_docs = boolean_retrieval(query, inverted_index)  \n",
    "        query_latent_vector = process_query_lsi(query, idf_vector, U_k, Sigma_k)\n",
    "        \n",
    "        scores = {}\n",
    "        for doc_id in candidate_docs:\n",
    "            doc_id_str = str(doc_id)  # Ensure key is a string\n",
    "            if doc_id_str in document_latent_vectors:\n",
    "                score = query_latent_vector @ document_latent_vectors[doc_id_str].T\n",
    "                if score > 0:\n",
    "                    scores[doc_id] = score\n",
    "\n",
    "        ranked_docs = sorted(scores.items(), key=lambda x: x[1], reverse=True)\n",
    "        results[qid] = [doc_id for doc_id, _ in ranked_docs]\n",
    "\n",
    "    return results"
   ]
  },
  {
   "cell_type": "code",
   "execution_count": null,
   "id": "1c205111",
   "metadata": {
    "execution": {
     "iopub.execute_input": "2025-06-22T11:23:09.889772Z",
     "iopub.status.busy": "2025-06-22T11:23:09.889772Z",
     "iopub.status.idle": "2025-06-22T11:23:20.744338Z",
     "shell.execute_reply": "2025-06-22T11:23:20.743167Z"
    }
   },
   "outputs": [],
   "source": [
    "retrieval_results_lsi = LSI_with_boolean(queries, LatentSemanticIndexing(U_k, Sigma_k, Vt_k, doc_ids), idf_vector, U_k, Sigma_k)"
   ]
  },
  {
   "cell_type": "markdown",
   "id": "d5dd2fc3",
   "metadata": {},
   "source": [
    "#### Plot Metric Score"
   ]
  },
  {
   "cell_type": "code",
   "execution_count": null,
   "id": "481d565c",
   "metadata": {
    "execution": {
     "iopub.execute_input": "2025-06-22T11:23:20.747300Z",
     "iopub.status.busy": "2025-06-22T11:23:20.747300Z",
     "iopub.status.idle": "2025-06-22T11:23:20.867532Z",
     "shell.execute_reply": "2025-06-22T11:23:20.866533Z"
    }
   },
   "outputs": [],
   "source": [
    "precision_1, recall_1 = evaluate_precision_recall(retrieval_results_lsi, relevance)\n",
    "\n",
    "plot_precision_recall(precision_1, recall_1)"
   ]
  },
  {
   "cell_type": "code",
   "execution_count": null,
   "id": "69bef24e",
   "metadata": {
    "execution": {
     "iopub.execute_input": "2025-06-22T11:23:20.870050Z",
     "iopub.status.busy": "2025-06-22T11:23:20.870050Z",
     "iopub.status.idle": "2025-06-22T11:23:21.005747Z",
     "shell.execute_reply": "2025-06-22T11:23:21.005747Z"
    }
   },
   "outputs": [],
   "source": [
    "avg_precisions_LSI = compute_interpolated_precisions(retrieval_results_lsi, relevance)\n",
    "plot_interpolated_map(avg_precisions_LSI)"
   ]
  },
  {
   "cell_type": "markdown",
   "id": "574ff62f",
   "metadata": {},
   "source": [
    "#### Evaluate LSI model with k - demension"
   ]
  },
  {
   "cell_type": "code",
   "execution_count": null,
   "id": "2eec6ddb",
   "metadata": {
    "execution": {
     "iopub.execute_input": "2025-06-22T11:23:21.009258Z",
     "iopub.status.busy": "2025-06-22T11:23:21.008258Z",
     "iopub.status.idle": "2025-06-22T11:23:21.020953Z",
     "shell.execute_reply": "2025-06-22T11:23:21.020953Z"
    }
   },
   "outputs": [],
   "source": [
    "k_values = list(range(10, 201, 10))  \n",
    "map_scores = []\n"
   ]
  },
  {
   "cell_type": "code",
   "execution_count": null,
   "id": "19dcc604",
   "metadata": {
    "execution": {
     "iopub.execute_input": "2025-06-22T11:23:21.024512Z",
     "iopub.status.busy": "2025-06-22T11:23:21.023455Z",
     "iopub.status.idle": "2025-06-22T11:23:21.036174Z",
     "shell.execute_reply": "2025-06-22T11:23:21.036174Z"
    }
   },
   "outputs": [],
   "source": [
    "def analyze_map_vs_k_lsi_boolean(\n",
    "    queries,\n",
    "    term_doc_matrix,\n",
    "    idf_vector,\n",
    "    inverted_index,\n",
    "    relevance_dict,\n",
    "    k_list,\n",
    "    doc_ids\n",
    "):\n",
    "    map_scores = []\n",
    "\n",
    "    for k in k_list:\n",
    "        print(f\"🚀 Running LSI + Boolean Layer with k = {k}\")\n",
    "\n",
    "        U_k, Sigma_k, Vt_k, _ = apply_svd_with_flex_k(term_doc_matrix, user_defined_k=k)\n",
    "\n",
    "        document_latent_vectors = LatentSemanticIndexing(U_k, Sigma_k, Vt_k, doc_ids)\n",
    "\n",
    "        retrieved_docs_dict = LSI_with_boolean(\n",
    "            queries, document_latent_vectors, idf_vector, U_k, Sigma_k\n",
    "        )\n",
    "\n",
    "        map_11pt = compute_interpolated_precisions(retrieved_docs_dict, relevance_dict)\n",
    "        # FIX: Take mean if dict\n",
    "        if isinstance(map_11pt, dict):\n",
    "            mean_map = np.mean(list(map_11pt.values()))\n",
    "        else:\n",
    "            mean_map = map_11pt\n",
    "        map_scores.append(mean_map)\n",
    "\n",
    "    plt.figure(figsize=(8, 5))\n",
    "    plt.plot(k_list, map_scores, marker='o', color='blue')\n",
    "    plt.title(\"MAP (11-point interpolated) vs.  k - dimension in LSI\")\n",
    "    plt.xlabel(\"k - dimension\")\n",
    "    plt.ylabel(\"MAP interpolated\")\n",
    "    plt.grid(True)\n",
    "    plt.xticks(k_list)\n",
    "    plt.show()\n",
    "\n",
    "    return None"
   ]
  },
  {
   "cell_type": "code",
   "execution_count": null,
   "id": "c239cf47",
   "metadata": {
    "execution": {
     "iopub.execute_input": "2025-06-22T11:23:21.038756Z",
     "iopub.status.busy": "2025-06-22T11:23:21.038756Z",
     "iopub.status.idle": "2025-06-22T11:24:39.075218Z",
     "shell.execute_reply": "2025-06-22T11:24:39.075218Z"
    }
   },
   "outputs": [],
   "source": [
    "analyze_map_vs_k_lsi_boolean( queries,\n",
    "    term_doc_matrix,\n",
    "    idf_vector,\n",
    "    inverted_index,\n",
    "    relevance,\n",
    "    k_list=k_values\n",
    "    , doc_ids=doc_ids)\n",
    "   "
   ]
  }
 ],
 "metadata": {
  "kernelspec": {
   "display_name": "IR",
   "language": "python",
   "name": "python3"
  },
  "language_info": {
   "codemirror_mode": {
    "name": "ipython",
    "version": 3
   },
   "file_extension": ".py",
   "mimetype": "text/x-python",
   "name": "python",
   "nbconvert_exporter": "python",
   "pygments_lexer": "ipython3",
   "version": "3.9.23"
  }
 },
 "nbformat": 4,
 "nbformat_minor": 5
}
